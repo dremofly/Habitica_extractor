{
 "cells": [
  {
   "cell_type": "code",
   "execution_count": 1,
   "metadata": {},
   "outputs": [],
   "source": [
    "import pandas as pd"
   ]
  },
  {
   "cell_type": "code",
   "execution_count": 101,
   "metadata": {},
   "outputs": [],
   "source": [
    "class habitica:\n",
    "    def __init__(self, filename, week_begin, week_end):\n",
    "        self.data = pd.read_csv(filename)\n",
    "        self.this_week(week_begin, week_end)\n",
    "        \n",
    "    def this_week(self, week_begin, week_end):\n",
    "        # 对时间进行处理\n",
    "        self.data['Date'] = pd.to_datetime(self.data['Date'], infer_datetime_format=True)\n",
    "        temp = pd.Series([week_begin, week_end])\n",
    "        temp = pd.to_datetime(temp, infer_datetime_format=True)\n",
    "        # 通过时间筛选出本周对\n",
    "        print(self.data.shape)\n",
    "        self.data = self.data[self.data['Date']>=temp[0]]\n",
    "        print(self.data.shape)\n",
    "        #self.data = self.data[self.data['Date']<=temp[1]]\n",
    "    def show_habit(self):\n",
    "        habit = self.data[self.data['Task Type']=='habit']\n",
    "        print(habit.head())"
   ]
  },
  {
   "cell_type": "code",
   "execution_count": 102,
   "metadata": {},
   "outputs": [
    {
     "name": "stdout",
     "output_type": "stream",
     "text": [
      "(4, 5)\n",
      "(4, 5)\n"
     ]
    }
   ],
   "source": [
    "f = 'data/habitica-tasks-history.csv'\n",
    "ts = '2020-03-08 00:15:01'\n",
    "te = '2020-03-08 23:59:59'\n",
    "d = habitica(f,ts,te)"
   ]
  },
  {
   "cell_type": "code",
   "execution_count": 98,
   "metadata": {},
   "outputs": [
    {
     "data": {
      "text/html": [
       "<div>\n",
       "<style scoped>\n",
       "    .dataframe tbody tr th:only-of-type {\n",
       "        vertical-align: middle;\n",
       "    }\n",
       "\n",
       "    .dataframe tbody tr th {\n",
       "        vertical-align: top;\n",
       "    }\n",
       "\n",
       "    .dataframe thead th {\n",
       "        text-align: right;\n",
       "    }\n",
       "</style>\n",
       "<table border=\"1\" class=\"dataframe\">\n",
       "  <thead>\n",
       "    <tr style=\"text-align: right;\">\n",
       "      <th></th>\n",
       "      <th>Task Name</th>\n",
       "      <th>Task ID</th>\n",
       "      <th>Task Type</th>\n",
       "      <th>Date</th>\n",
       "      <th>Value</th>\n",
       "    </tr>\n",
       "  </thead>\n",
       "  <tbody>\n",
       "    <tr>\n",
       "      <th>0</th>\n",
       "      <td>cure</td>\n",
       "      <td>7059cade-c9df-4a7b-846f-ec0f09433121</td>\n",
       "      <td>habit</td>\n",
       "      <td>2020-03-08 10:19:43</td>\n",
       "      <td>-1.026657</td>\n",
       "    </tr>\n",
       "    <tr>\n",
       "      <th>1</th>\n",
       "      <td>短短地休息一下</td>\n",
       "      <td>d0d7af3c-e8f7-4f01-b6ca-64607140a9e1</td>\n",
       "      <td>habit</td>\n",
       "      <td>2020-03-08 10:17:47</td>\n",
       "      <td>1.000000</td>\n",
       "    </tr>\n",
       "    <tr>\n",
       "      <th>2</th>\n",
       "      <td>听力&gt;&gt;托福</td>\n",
       "      <td>f72cf781-2b69-4f02-abf2-ad14883e31b1</td>\n",
       "      <td>daily</td>\n",
       "      <td>2020-03-08 10:04:50</td>\n",
       "      <td>1.000000</td>\n",
       "    </tr>\n",
       "    <tr>\n",
       "      <th>3</th>\n",
       "      <td>俯卧撑&gt;&gt;锻炼身体</td>\n",
       "      <td>035463b6-4aa3-44cb-ac7c-13bbd28c213a</td>\n",
       "      <td>daily</td>\n",
       "      <td>2020-03-08 10:15:46</td>\n",
       "      <td>1.000000</td>\n",
       "    </tr>\n",
       "  </tbody>\n",
       "</table>\n",
       "</div>"
      ],
      "text/plain": [
       "   Task Name                               Task ID Task Type  \\\n",
       "0       cure  7059cade-c9df-4a7b-846f-ec0f09433121     habit   \n",
       "1    短短地休息一下  d0d7af3c-e8f7-4f01-b6ca-64607140a9e1     habit   \n",
       "2     听力>>托福  f72cf781-2b69-4f02-abf2-ad14883e31b1     daily   \n",
       "3  俯卧撑>>锻炼身体  035463b6-4aa3-44cb-ac7c-13bbd28c213a     daily   \n",
       "\n",
       "                 Date     Value  \n",
       "0 2020-03-08 10:19:43 -1.026657  \n",
       "1 2020-03-08 10:17:47  1.000000  \n",
       "2 2020-03-08 10:04:50  1.000000  \n",
       "3 2020-03-08 10:15:46  1.000000  "
      ]
     },
     "execution_count": 98,
     "metadata": {},
     "output_type": "execute_result"
    }
   ],
   "source": [
    "d.data"
   ]
  },
  {
   "cell_type": "code",
   "execution_count": 81,
   "metadata": {},
   "outputs": [
    {
     "ename": "TypeError",
     "evalue": "'NoneType' object is not subscriptable",
     "output_type": "error",
     "traceback": [
      "\u001b[0;31m---------------------------------------------------------------------------\u001b[0m",
      "\u001b[0;31mTypeError\u001b[0m                                 Traceback (most recent call last)",
      "\u001b[0;32m<ipython-input-81-78e72e907643>\u001b[0m in \u001b[0;36m<module>\u001b[0;34m\u001b[0m\n\u001b[0;32m----> 1\u001b[0;31m \u001b[0md\u001b[0m\u001b[0;34m.\u001b[0m\u001b[0mshow_habit\u001b[0m\u001b[0;34m(\u001b[0m\u001b[0;34m)\u001b[0m\u001b[0;34m\u001b[0m\u001b[0;34m\u001b[0m\u001b[0m\n\u001b[0m",
      "\u001b[0;32m<ipython-input-77-afcc0d1fcb18>\u001b[0m in \u001b[0;36mshow_habit\u001b[0;34m(self)\u001b[0m\n\u001b[1;32m     15\u001b[0m \u001b[0;34m\u001b[0m\u001b[0m\n\u001b[1;32m     16\u001b[0m     \u001b[0;32mdef\u001b[0m \u001b[0mshow_habit\u001b[0m\u001b[0;34m(\u001b[0m\u001b[0mself\u001b[0m\u001b[0;34m)\u001b[0m\u001b[0;34m:\u001b[0m\u001b[0;34m\u001b[0m\u001b[0;34m\u001b[0m\u001b[0m\n\u001b[0;32m---> 17\u001b[0;31m         \u001b[0mhabit\u001b[0m \u001b[0;34m=\u001b[0m \u001b[0mself\u001b[0m\u001b[0;34m.\u001b[0m\u001b[0mdata\u001b[0m\u001b[0;34m[\u001b[0m\u001b[0mself\u001b[0m\u001b[0;34m.\u001b[0m\u001b[0mdata\u001b[0m\u001b[0;34m[\u001b[0m\u001b[0;34m'Task Type'\u001b[0m\u001b[0;34m]\u001b[0m\u001b[0;34m==\u001b[0m\u001b[0;34m'habit'\u001b[0m\u001b[0;34m]\u001b[0m\u001b[0;34m\u001b[0m\u001b[0;34m\u001b[0m\u001b[0m\n\u001b[0m\u001b[1;32m     18\u001b[0m         \u001b[0mprint\u001b[0m\u001b[0;34m(\u001b[0m\u001b[0mhabit\u001b[0m\u001b[0;34m.\u001b[0m\u001b[0mhead\u001b[0m\u001b[0;34m(\u001b[0m\u001b[0;34m)\u001b[0m\u001b[0;34m)\u001b[0m\u001b[0;34m\u001b[0m\u001b[0;34m\u001b[0m\u001b[0m\n",
      "\u001b[0;31mTypeError\u001b[0m: 'NoneType' object is not subscriptable"
     ]
    }
   ],
   "source": [
    "d.show_habit()"
   ]
  },
  {
   "cell_type": "code",
   "execution_count": 22,
   "metadata": {},
   "outputs": [
    {
     "data": {
      "text/plain": [
       "0   2020-03-08 10:19:43\n",
       "1   2020-03-08 10:17:47\n",
       "2   2020-03-08 10:04:50\n",
       "3   2020-03-08 10:15:46\n",
       "Name: Date, dtype: datetime64[ns]"
      ]
     },
     "execution_count": 22,
     "metadata": {},
     "output_type": "execute_result"
    }
   ],
   "source": [
    "pd.to_datetime(d.data['Date'], infer_datetime_format=True)  "
   ]
  },
  {
   "cell_type": "code",
   "execution_count": 25,
   "metadata": {},
   "outputs": [],
   "source": [
    "time1 = '2020-03-08 10:18:00'\n",
    "ts = pd.Series([time1])\n",
    "ts = pd.to_datetime(ts, infer_datetime_format=True)"
   ]
  },
  {
   "cell_type": "code",
   "execution_count": 26,
   "metadata": {},
   "outputs": [
    {
     "data": {
      "text/plain": [
       "0   2020-03-08 10:19:43\n",
       "Name: Date, dtype: datetime64[ns]"
      ]
     },
     "execution_count": 26,
     "metadata": {},
     "output_type": "execute_result"
    }
   ],
   "source": [
    "times = pd.to_datetime(d.data['Date'], infer_datetime_format=True)  \n",
    "t2 = times[times>ts[0]]\n",
    "t2"
   ]
  },
  {
   "cell_type": "code",
   "execution_count": 8,
   "metadata": {},
   "outputs": [
    {
     "data": {
      "text/plain": [
       "Task Name     object\n",
       "Task ID       object\n",
       "Task Type     object\n",
       "Date          object\n",
       "Value        float64\n",
       "dtype: object"
      ]
     },
     "execution_count": 8,
     "metadata": {},
     "output_type": "execute_result"
    }
   ],
   "source": [
    "d.data.dtypes"
   ]
  },
  {
   "cell_type": "code",
   "execution_count": 9,
   "metadata": {},
   "outputs": [
    {
     "data": {
      "text/plain": [
       "Index(['Task Name', 'Task ID', 'Task Type', 'Date', 'Value'], dtype='object')"
      ]
     },
     "execution_count": 9,
     "metadata": {},
     "output_type": "execute_result"
    }
   ],
   "source": [
    "d.data.columns"
   ]
  },
  {
   "cell_type": "code",
   "execution_count": 10,
   "metadata": {},
   "outputs": [
    {
     "data": {
      "text/html": [
       "<div>\n",
       "<style scoped>\n",
       "    .dataframe tbody tr th:only-of-type {\n",
       "        vertical-align: middle;\n",
       "    }\n",
       "\n",
       "    .dataframe tbody tr th {\n",
       "        vertical-align: top;\n",
       "    }\n",
       "\n",
       "    .dataframe thead th {\n",
       "        text-align: right;\n",
       "    }\n",
       "</style>\n",
       "<table border=\"1\" class=\"dataframe\">\n",
       "  <thead>\n",
       "    <tr style=\"text-align: right;\">\n",
       "      <th></th>\n",
       "      <th>Task Name</th>\n",
       "      <th>Task ID</th>\n",
       "      <th>Task Type</th>\n",
       "      <th>Date</th>\n",
       "      <th>Value</th>\n",
       "    </tr>\n",
       "  </thead>\n",
       "  <tbody>\n",
       "    <tr>\n",
       "      <th>0</th>\n",
       "      <td>cure</td>\n",
       "      <td>7059cade-c9df-4a7b-846f-ec0f09433121</td>\n",
       "      <td>habit</td>\n",
       "      <td>2020-03-08 10:19:43</td>\n",
       "      <td>-1.026657</td>\n",
       "    </tr>\n",
       "    <tr>\n",
       "      <th>1</th>\n",
       "      <td>短短地休息一下</td>\n",
       "      <td>d0d7af3c-e8f7-4f01-b6ca-64607140a9e1</td>\n",
       "      <td>habit</td>\n",
       "      <td>2020-03-08 10:17:47</td>\n",
       "      <td>1.000000</td>\n",
       "    </tr>\n",
       "    <tr>\n",
       "      <th>2</th>\n",
       "      <td>听力&gt;&gt;托福</td>\n",
       "      <td>f72cf781-2b69-4f02-abf2-ad14883e31b1</td>\n",
       "      <td>daily</td>\n",
       "      <td>2020-03-08 10:04:50</td>\n",
       "      <td>1.000000</td>\n",
       "    </tr>\n",
       "    <tr>\n",
       "      <th>3</th>\n",
       "      <td>俯卧撑&gt;&gt;锻炼身体</td>\n",
       "      <td>035463b6-4aa3-44cb-ac7c-13bbd28c213a</td>\n",
       "      <td>daily</td>\n",
       "      <td>2020-03-08 10:15:46</td>\n",
       "      <td>1.000000</td>\n",
       "    </tr>\n",
       "  </tbody>\n",
       "</table>\n",
       "</div>"
      ],
      "text/plain": [
       "   Task Name                               Task ID Task Type  \\\n",
       "0       cure  7059cade-c9df-4a7b-846f-ec0f09433121     habit   \n",
       "1    短短地休息一下  d0d7af3c-e8f7-4f01-b6ca-64607140a9e1     habit   \n",
       "2     听力>>托福  f72cf781-2b69-4f02-abf2-ad14883e31b1     daily   \n",
       "3  俯卧撑>>锻炼身体  035463b6-4aa3-44cb-ac7c-13bbd28c213a     daily   \n",
       "\n",
       "                  Date     Value  \n",
       "0  2020-03-08 10:19:43 -1.026657  \n",
       "1  2020-03-08 10:17:47  1.000000  \n",
       "2  2020-03-08 10:04:50  1.000000  \n",
       "3  2020-03-08 10:15:46  1.000000  "
      ]
     },
     "execution_count": 10,
     "metadata": {},
     "output_type": "execute_result"
    }
   ],
   "source": [
    "d.data"
   ]
  },
  {
   "cell_type": "code",
   "execution_count": 11,
   "metadata": {},
   "outputs": [],
   "source": [
    "f2 = 'data/habitica-tasks-history2.csv'\n",
    "d2 = habitica(f2)"
   ]
  },
  {
   "cell_type": "code",
   "execution_count": 14,
   "metadata": {},
   "outputs": [
    {
     "data": {
      "text/html": [
       "<div>\n",
       "<style scoped>\n",
       "    .dataframe tbody tr th:only-of-type {\n",
       "        vertical-align: middle;\n",
       "    }\n",
       "\n",
       "    .dataframe tbody tr th {\n",
       "        vertical-align: top;\n",
       "    }\n",
       "\n",
       "    .dataframe thead th {\n",
       "        text-align: right;\n",
       "    }\n",
       "</style>\n",
       "<table border=\"1\" class=\"dataframe\">\n",
       "  <thead>\n",
       "    <tr style=\"text-align: right;\">\n",
       "      <th></th>\n",
       "      <th>Task Name</th>\n",
       "      <th>Task ID</th>\n",
       "      <th>Task Type</th>\n",
       "      <th>Date</th>\n",
       "      <th>Value</th>\n",
       "    </tr>\n",
       "  </thead>\n",
       "  <tbody>\n",
       "    <tr>\n",
       "      <th>0</th>\n",
       "      <td>cure</td>\n",
       "      <td>7059cade-c9df-4a7b-846f-ec0f09433121</td>\n",
       "      <td>habit</td>\n",
       "      <td>2020-03-08 10:19:43</td>\n",
       "      <td>-1.026657</td>\n",
       "    </tr>\n",
       "    <tr>\n",
       "      <th>1</th>\n",
       "      <td>处理邮件</td>\n",
       "      <td>80a7b330-b9a6-4e97-bf8d-43080f5474ea</td>\n",
       "      <td>habit</td>\n",
       "      <td>2020-03-08 11:59:07</td>\n",
       "      <td>1.000000</td>\n",
       "    </tr>\n",
       "    <tr>\n",
       "      <th>2</th>\n",
       "      <td>短短地休息一下</td>\n",
       "      <td>d0d7af3c-e8f7-4f01-b6ca-64607140a9e1</td>\n",
       "      <td>habit</td>\n",
       "      <td>2020-03-08 10:17:47</td>\n",
       "      <td>1.000000</td>\n",
       "    </tr>\n",
       "    <tr>\n",
       "      <th>3</th>\n",
       "      <td>听力&gt;&gt;托福</td>\n",
       "      <td>f72cf781-2b69-4f02-abf2-ad14883e31b1</td>\n",
       "      <td>daily</td>\n",
       "      <td>2020-03-08 10:04:50</td>\n",
       "      <td>1.000000</td>\n",
       "    </tr>\n",
       "    <tr>\n",
       "      <th>4</th>\n",
       "      <td>俯卧撑&gt;&gt;锻炼身体</td>\n",
       "      <td>035463b6-4aa3-44cb-ac7c-13bbd28c213a</td>\n",
       "      <td>daily</td>\n",
       "      <td>2020-03-08 10:15:46</td>\n",
       "      <td>1.000000</td>\n",
       "    </tr>\n",
       "  </tbody>\n",
       "</table>\n",
       "</div>"
      ],
      "text/plain": [
       "   Task Name                               Task ID Task Type  \\\n",
       "0       cure  7059cade-c9df-4a7b-846f-ec0f09433121     habit   \n",
       "1       处理邮件  80a7b330-b9a6-4e97-bf8d-43080f5474ea     habit   \n",
       "2    短短地休息一下  d0d7af3c-e8f7-4f01-b6ca-64607140a9e1     habit   \n",
       "3     听力>>托福  f72cf781-2b69-4f02-abf2-ad14883e31b1     daily   \n",
       "4  俯卧撑>>锻炼身体  035463b6-4aa3-44cb-ac7c-13bbd28c213a     daily   \n",
       "\n",
       "                  Date     Value  \n",
       "0  2020-03-08 10:19:43 -1.026657  \n",
       "1  2020-03-08 11:59:07  1.000000  \n",
       "2  2020-03-08 10:17:47  1.000000  \n",
       "3  2020-03-08 10:04:50  1.000000  \n",
       "4  2020-03-08 10:15:46  1.000000  "
      ]
     },
     "execution_count": 14,
     "metadata": {},
     "output_type": "execute_result"
    }
   ],
   "source": [
    "d2.data.head()"
   ]
  },
  {
   "cell_type": "code",
   "execution_count": null,
   "metadata": {},
   "outputs": [],
   "source": []
  }
 ],
 "metadata": {
  "kernelspec": {
   "display_name": "Python 3",
   "language": "python",
   "name": "python3"
  },
  "language_info": {
   "codemirror_mode": {
    "name": "ipython",
    "version": 3
   },
   "file_extension": ".py",
   "mimetype": "text/x-python",
   "name": "python",
   "nbconvert_exporter": "python",
   "pygments_lexer": "ipython3",
   "version": "3.7.3"
  }
 },
 "nbformat": 4,
 "nbformat_minor": 2
}
