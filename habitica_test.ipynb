{
 "cells": [
  {
   "cell_type": "code",
   "execution_count": 1,
   "metadata": {},
   "outputs": [],
   "source": [
    "import pandas as pd"
   ]
  },
  {
   "cell_type": "code",
   "execution_count": 6,
   "metadata": {},
   "outputs": [],
   "source": [
    "class habitica:\n",
    "    def __init__(self, filename, week_begin, week_end):\n",
    "        self.data = pd.read_csv(filename)\n",
    "        self.this_week(week_begin, week_end)\n",
    "        \n",
    "    def this_week(self, week_begin, week_end):\n",
    "        # 对时间进行处理\n",
    "        self.data['Date'] = pd.to_datetime(self.data['Date'], infer_datetime_format=True)\n",
    "        temp = pd.Series([week_begin, week_end])\n",
    "        temp = pd.to_datetime(temp, infer_datetime_format=True)\n",
    "        # 通过时间筛选出本周对\n",
    "        print(self.data.shape)\n",
    "        self.data = self.data[self.data['Date']>=temp[0]]\n",
    "        print(self.data.shape)\n",
    "        #self.data = self.data[self.data['Date']<=temp[1]]\n",
    "    def show_habit(self):\n",
    "        habit = self.data[self.data['Task Type']=='habit']\n",
    "        print(habit.head())"
   ]
  },
  {
   "cell_type": "code",
   "execution_count": 7,
   "metadata": {},
   "outputs": [
    {
     "name": "stdout",
     "output_type": "stream",
     "text": [
      "(50, 5)\n",
      "(50, 5)\n"
     ]
    }
   ],
   "source": [
    "f = 'data/habitica-tasks-history3.csv'\n",
    "ts = '2020-03-08 00:15:01'\n",
    "te = '2020-03-08 23:59:59'\n",
    "d = habitica(f,ts,te)"
   ]
  },
  {
   "cell_type": "code",
   "execution_count": 8,
   "metadata": {},
   "outputs": [
    {
     "data": {
      "text/plain": [
       "(50, 5)"
      ]
     },
     "execution_count": 8,
     "metadata": {},
     "output_type": "execute_result"
    }
   ],
   "source": [
    "d.data.shape"
   ]
  },
  {
   "cell_type": "code",
   "execution_count": 9,
   "metadata": {},
   "outputs": [
    {
     "data": {
      "text/html": [
       "<div>\n",
       "<style scoped>\n",
       "    .dataframe tbody tr th:only-of-type {\n",
       "        vertical-align: middle;\n",
       "    }\n",
       "\n",
       "    .dataframe tbody tr th {\n",
       "        vertical-align: top;\n",
       "    }\n",
       "\n",
       "    .dataframe thead th {\n",
       "        text-align: right;\n",
       "    }\n",
       "</style>\n",
       "<table border=\"1\" class=\"dataframe\">\n",
       "  <thead>\n",
       "    <tr style=\"text-align: right;\">\n",
       "      <th></th>\n",
       "      <th>Task Name</th>\n",
       "      <th>Task ID</th>\n",
       "      <th>Task Type</th>\n",
       "      <th>Date</th>\n",
       "      <th>Value</th>\n",
       "    </tr>\n",
       "  </thead>\n",
       "  <tbody>\n",
       "    <tr>\n",
       "      <th>0</th>\n",
       "      <td>cure</td>\n",
       "      <td>7059cade-c9df-4a7b-846f-ec0f09433121</td>\n",
       "      <td>habit</td>\n",
       "      <td>2020-03-08 10:19:43</td>\n",
       "      <td>-1.026657</td>\n",
       "    </tr>\n",
       "    <tr>\n",
       "      <th>1</th>\n",
       "      <td>cure</td>\n",
       "      <td>7059cade-c9df-4a7b-846f-ec0f09433121</td>\n",
       "      <td>habit</td>\n",
       "      <td>2020-03-09 14:46:48</td>\n",
       "      <td>-1.553953</td>\n",
       "    </tr>\n",
       "    <tr>\n",
       "      <th>2</th>\n",
       "      <td>处理邮件</td>\n",
       "      <td>80a7b330-b9a6-4e97-bf8d-43080f5474ea</td>\n",
       "      <td>habit</td>\n",
       "      <td>2020-03-08 11:59:07</td>\n",
       "      <td>1.000000</td>\n",
       "    </tr>\n",
       "    <tr>\n",
       "      <th>3</th>\n",
       "      <td>处理邮件</td>\n",
       "      <td>80a7b330-b9a6-4e97-bf8d-43080f5474ea</td>\n",
       "      <td>habit</td>\n",
       "      <td>2020-03-10 13:51:55</td>\n",
       "      <td>1.243614</td>\n",
       "    </tr>\n",
       "    <tr>\n",
       "      <th>4</th>\n",
       "      <td>短短地休息一下</td>\n",
       "      <td>d0d7af3c-e8f7-4f01-b6ca-64607140a9e1</td>\n",
       "      <td>habit</td>\n",
       "      <td>2020-03-08 10:17:47</td>\n",
       "      <td>1.000000</td>\n",
       "    </tr>\n",
       "    <tr>\n",
       "      <th>5</th>\n",
       "      <td>写日记&gt;&gt;成长</td>\n",
       "      <td>2c614e9f-303f-47a0-a803-bda7a7a126cd</td>\n",
       "      <td>daily</td>\n",
       "      <td>2020-03-08 13:54:35</td>\n",
       "      <td>1.000000</td>\n",
       "    </tr>\n",
       "    <tr>\n",
       "      <th>6</th>\n",
       "      <td>写日记&gt;&gt;成长</td>\n",
       "      <td>2c614e9f-303f-47a0-a803-bda7a7a126cd</td>\n",
       "      <td>daily</td>\n",
       "      <td>2020-03-09 15:15:35</td>\n",
       "      <td>1.974700</td>\n",
       "    </tr>\n",
       "    <tr>\n",
       "      <th>7</th>\n",
       "      <td>写日记&gt;&gt;成长</td>\n",
       "      <td>2c614e9f-303f-47a0-a803-bda7a7a126cd</td>\n",
       "      <td>daily</td>\n",
       "      <td>2020-03-10 13:51:47</td>\n",
       "      <td>2.925356</td>\n",
       "    </tr>\n",
       "    <tr>\n",
       "      <th>8</th>\n",
       "      <td>写日记&gt;&gt;成长</td>\n",
       "      <td>2c614e9f-303f-47a0-a803-bda7a7a126cd</td>\n",
       "      <td>daily</td>\n",
       "      <td>2020-03-11 15:08:30</td>\n",
       "      <td>3.853133</td>\n",
       "    </tr>\n",
       "    <tr>\n",
       "      <th>9</th>\n",
       "      <td>听力&gt;&gt;托福</td>\n",
       "      <td>f72cf781-2b69-4f02-abf2-ad14883e31b1</td>\n",
       "      <td>daily</td>\n",
       "      <td>2020-03-08 10:04:50</td>\n",
       "      <td>1.000000</td>\n",
       "    </tr>\n",
       "    <tr>\n",
       "      <th>10</th>\n",
       "      <td>听力&gt;&gt;托福</td>\n",
       "      <td>f72cf781-2b69-4f02-abf2-ad14883e31b1</td>\n",
       "      <td>daily</td>\n",
       "      <td>2020-03-09 09:12:38</td>\n",
       "      <td>1.974700</td>\n",
       "    </tr>\n",
       "    <tr>\n",
       "      <th>11</th>\n",
       "      <td>听力&gt;&gt;托福</td>\n",
       "      <td>f72cf781-2b69-4f02-abf2-ad14883e31b1</td>\n",
       "      <td>daily</td>\n",
       "      <td>2020-03-10 13:34:57</td>\n",
       "      <td>2.925356</td>\n",
       "    </tr>\n",
       "    <tr>\n",
       "      <th>12</th>\n",
       "      <td>听力&gt;&gt;托福</td>\n",
       "      <td>f72cf781-2b69-4f02-abf2-ad14883e31b1</td>\n",
       "      <td>daily</td>\n",
       "      <td>2020-03-11 03:19:55</td>\n",
       "      <td>3.853133</td>\n",
       "    </tr>\n",
       "    <tr>\n",
       "      <th>13</th>\n",
       "      <td>俯卧撑&gt;&gt;锻炼身体</td>\n",
       "      <td>035463b6-4aa3-44cb-ac7c-13bbd28c213a</td>\n",
       "      <td>daily</td>\n",
       "      <td>2020-03-08 10:15:46</td>\n",
       "      <td>1.000000</td>\n",
       "    </tr>\n",
       "    <tr>\n",
       "      <th>14</th>\n",
       "      <td>俯卧撑&gt;&gt;锻炼身体</td>\n",
       "      <td>035463b6-4aa3-44cb-ac7c-13bbd28c213a</td>\n",
       "      <td>daily</td>\n",
       "      <td>2020-03-09 12:02:11</td>\n",
       "      <td>1.974700</td>\n",
       "    </tr>\n",
       "    <tr>\n",
       "      <th>15</th>\n",
       "      <td>俯卧撑&gt;&gt;锻炼身体</td>\n",
       "      <td>035463b6-4aa3-44cb-ac7c-13bbd28c213a</td>\n",
       "      <td>daily</td>\n",
       "      <td>2020-03-10 13:34:59</td>\n",
       "      <td>2.925356</td>\n",
       "    </tr>\n",
       "    <tr>\n",
       "      <th>16</th>\n",
       "      <td>俯卧撑&gt;&gt;锻炼身体</td>\n",
       "      <td>035463b6-4aa3-44cb-ac7c-13bbd28c213a</td>\n",
       "      <td>daily</td>\n",
       "      <td>2020-03-11 14:43:04</td>\n",
       "      <td>3.853133</td>\n",
       "    </tr>\n",
       "    <tr>\n",
       "      <th>17</th>\n",
       "      <td>登陆豆瓣</td>\n",
       "      <td>6917086c-7b33-41eb-b554-6017317e76ff</td>\n",
       "      <td>daily</td>\n",
       "      <td>2020-03-08 11:58:15</td>\n",
       "      <td>1.000000</td>\n",
       "    </tr>\n",
       "    <tr>\n",
       "      <th>18</th>\n",
       "      <td>登陆豆瓣</td>\n",
       "      <td>6917086c-7b33-41eb-b554-6017317e76ff</td>\n",
       "      <td>daily</td>\n",
       "      <td>2020-03-09 12:02:02</td>\n",
       "      <td>1.974700</td>\n",
       "    </tr>\n",
       "    <tr>\n",
       "      <th>19</th>\n",
       "      <td>登陆豆瓣</td>\n",
       "      <td>6917086c-7b33-41eb-b554-6017317e76ff</td>\n",
       "      <td>daily</td>\n",
       "      <td>2020-03-10 04:16:41</td>\n",
       "      <td>2.925356</td>\n",
       "    </tr>\n",
       "    <tr>\n",
       "      <th>20</th>\n",
       "      <td>登陆豆瓣</td>\n",
       "      <td>6917086c-7b33-41eb-b554-6017317e76ff</td>\n",
       "      <td>daily</td>\n",
       "      <td>2020-03-11 14:43:00</td>\n",
       "      <td>3.853133</td>\n",
       "    </tr>\n",
       "    <tr>\n",
       "      <th>21</th>\n",
       "      <td>百闻牌商店街和每日委托</td>\n",
       "      <td>9a843bb0-80a8-4b1a-be2a-49c32ad2f1c8</td>\n",
       "      <td>daily</td>\n",
       "      <td>2020-03-08 11:58:52</td>\n",
       "      <td>1.000000</td>\n",
       "    </tr>\n",
       "    <tr>\n",
       "      <th>22</th>\n",
       "      <td>百闻牌商店街和每日委托</td>\n",
       "      <td>9a843bb0-80a8-4b1a-be2a-49c32ad2f1c8</td>\n",
       "      <td>daily</td>\n",
       "      <td>2020-03-09 01:21:07</td>\n",
       "      <td>1.974700</td>\n",
       "    </tr>\n",
       "    <tr>\n",
       "      <th>23</th>\n",
       "      <td>百闻牌商店街和每日委托</td>\n",
       "      <td>9a843bb0-80a8-4b1a-be2a-49c32ad2f1c8</td>\n",
       "      <td>daily</td>\n",
       "      <td>2020-03-10 04:16:45</td>\n",
       "      <td>2.925356</td>\n",
       "    </tr>\n",
       "    <tr>\n",
       "      <th>24</th>\n",
       "      <td>百闻牌商店街和每日委托</td>\n",
       "      <td>9a843bb0-80a8-4b1a-be2a-49c32ad2f1c8</td>\n",
       "      <td>daily</td>\n",
       "      <td>2020-03-11 03:19:59</td>\n",
       "      <td>3.853133</td>\n",
       "    </tr>\n",
       "    <tr>\n",
       "      <th>25</th>\n",
       "      <td>扫地</td>\n",
       "      <td>d5174c82-598f-43fe-87f4-262768d52c79</td>\n",
       "      <td>daily</td>\n",
       "      <td>2020-03-08 16:27:45</td>\n",
       "      <td>0.000000</td>\n",
       "    </tr>\n",
       "    <tr>\n",
       "      <th>26</th>\n",
       "      <td>扫地</td>\n",
       "      <td>d5174c82-598f-43fe-87f4-262768d52c79</td>\n",
       "      <td>daily</td>\n",
       "      <td>2020-03-09 09:12:32</td>\n",
       "      <td>1.000000</td>\n",
       "    </tr>\n",
       "    <tr>\n",
       "      <th>27</th>\n",
       "      <td>扫地</td>\n",
       "      <td>d5174c82-598f-43fe-87f4-262768d52c79</td>\n",
       "      <td>daily</td>\n",
       "      <td>2020-03-11 01:56:08</td>\n",
       "      <td>1.000000</td>\n",
       "    </tr>\n",
       "    <tr>\n",
       "      <th>28</th>\n",
       "      <td>洗头</td>\n",
       "      <td>032021d1-45fd-46e6-a4c7-42b0ce650bc3</td>\n",
       "      <td>daily</td>\n",
       "      <td>2020-03-08 16:27:45</td>\n",
       "      <td>0.000000</td>\n",
       "    </tr>\n",
       "    <tr>\n",
       "      <th>29</th>\n",
       "      <td>洗头</td>\n",
       "      <td>032021d1-45fd-46e6-a4c7-42b0ce650bc3</td>\n",
       "      <td>daily</td>\n",
       "      <td>2020-03-09 13:26:44</td>\n",
       "      <td>1.000000</td>\n",
       "    </tr>\n",
       "    <tr>\n",
       "      <th>30</th>\n",
       "      <td>洗头</td>\n",
       "      <td>032021d1-45fd-46e6-a4c7-42b0ce650bc3</td>\n",
       "      <td>daily</td>\n",
       "      <td>2020-03-11 01:56:08</td>\n",
       "      <td>1.000000</td>\n",
       "    </tr>\n",
       "    <tr>\n",
       "      <th>31</th>\n",
       "      <td>找出今日任务</td>\n",
       "      <td>58ce8f02-9ed2-45ee-8046-c24854c88fff</td>\n",
       "      <td>habit</td>\n",
       "      <td>2020-03-08 13:51:25</td>\n",
       "      <td>1.000000</td>\n",
       "    </tr>\n",
       "    <tr>\n",
       "      <th>32</th>\n",
       "      <td>找出今日任务</td>\n",
       "      <td>58ce8f02-9ed2-45ee-8046-c24854c88fff</td>\n",
       "      <td>habit</td>\n",
       "      <td>2020-03-09 09:56:54</td>\n",
       "      <td>1.487269</td>\n",
       "    </tr>\n",
       "    <tr>\n",
       "      <th>33</th>\n",
       "      <td>找出今日任务</td>\n",
       "      <td>58ce8f02-9ed2-45ee-8046-c24854c88fff</td>\n",
       "      <td>habit</td>\n",
       "      <td>2020-03-10 13:51:53</td>\n",
       "      <td>1.724759</td>\n",
       "    </tr>\n",
       "    <tr>\n",
       "      <th>34</th>\n",
       "      <td>写周报</td>\n",
       "      <td>55d182bc-6ba1-41e1-b6d9-a0775069d79c</td>\n",
       "      <td>daily</td>\n",
       "      <td>2020-03-08 16:27:45</td>\n",
       "      <td>0.000000</td>\n",
       "    </tr>\n",
       "    <tr>\n",
       "      <th>35</th>\n",
       "      <td>写周报</td>\n",
       "      <td>55d182bc-6ba1-41e1-b6d9-a0775069d79c</td>\n",
       "      <td>daily</td>\n",
       "      <td>2020-03-09 16:15:46</td>\n",
       "      <td>0.000000</td>\n",
       "    </tr>\n",
       "    <tr>\n",
       "      <th>36</th>\n",
       "      <td>写周报</td>\n",
       "      <td>55d182bc-6ba1-41e1-b6d9-a0775069d79c</td>\n",
       "      <td>daily</td>\n",
       "      <td>2020-03-11 01:56:08</td>\n",
       "      <td>0.000000</td>\n",
       "    </tr>\n",
       "    <tr>\n",
       "      <th>37</th>\n",
       "      <td>写子弹日记的每周总结和下周的目标</td>\n",
       "      <td>d5b78d6a-37bd-401c-93ce-aa51d70e6b40</td>\n",
       "      <td>daily</td>\n",
       "      <td>2020-03-08 14:06:09</td>\n",
       "      <td>1.000000</td>\n",
       "    </tr>\n",
       "    <tr>\n",
       "      <th>38</th>\n",
       "      <td>写子弹日记的每周总结和下周的目标</td>\n",
       "      <td>d5b78d6a-37bd-401c-93ce-aa51d70e6b40</td>\n",
       "      <td>daily</td>\n",
       "      <td>2020-03-09 16:15:46</td>\n",
       "      <td>1.000000</td>\n",
       "    </tr>\n",
       "    <tr>\n",
       "      <th>39</th>\n",
       "      <td>写子弹日记的每周总结和下周的目标</td>\n",
       "      <td>d5b78d6a-37bd-401c-93ce-aa51d70e6b40</td>\n",
       "      <td>daily</td>\n",
       "      <td>2020-03-11 01:56:08</td>\n",
       "      <td>1.000000</td>\n",
       "    </tr>\n",
       "    <tr>\n",
       "      <th>40</th>\n",
       "      <td>审视每周目标，指定今日任务</td>\n",
       "      <td>af9b8411-c124-4ebc-b61c-050a9e1e9b4f</td>\n",
       "      <td>daily</td>\n",
       "      <td>2020-03-08 13:58:53</td>\n",
       "      <td>1.000000</td>\n",
       "    </tr>\n",
       "    <tr>\n",
       "      <th>41</th>\n",
       "      <td>审视每周目标，指定今日任务</td>\n",
       "      <td>af9b8411-c124-4ebc-b61c-050a9e1e9b4f</td>\n",
       "      <td>daily</td>\n",
       "      <td>2020-03-09 10:18:01</td>\n",
       "      <td>1.974700</td>\n",
       "    </tr>\n",
       "    <tr>\n",
       "      <th>42</th>\n",
       "      <td>审视每周目标，指定今日任务</td>\n",
       "      <td>af9b8411-c124-4ebc-b61c-050a9e1e9b4f</td>\n",
       "      <td>daily</td>\n",
       "      <td>2020-03-10 09:36:45</td>\n",
       "      <td>2.925356</td>\n",
       "    </tr>\n",
       "    <tr>\n",
       "      <th>43</th>\n",
       "      <td>审视每周目标，指定今日任务</td>\n",
       "      <td>af9b8411-c124-4ebc-b61c-050a9e1e9b4f</td>\n",
       "      <td>daily</td>\n",
       "      <td>2020-03-11 14:43:00</td>\n",
       "      <td>3.853133</td>\n",
       "    </tr>\n",
       "    <tr>\n",
       "      <th>44</th>\n",
       "      <td>:tomato: Pomodoro</td>\n",
       "      <td>07d41cb3-26de-4b80-8518-116ef060fed2</td>\n",
       "      <td>habit</td>\n",
       "      <td>2020-03-09 03:58:27</td>\n",
       "      <td>1.000000</td>\n",
       "    </tr>\n",
       "    <tr>\n",
       "      <th>45</th>\n",
       "      <td>:tomato: Pomodoro</td>\n",
       "      <td>07d41cb3-26de-4b80-8518-116ef060fed2</td>\n",
       "      <td>habit</td>\n",
       "      <td>2020-03-10 03:57:14</td>\n",
       "      <td>4.759113</td>\n",
       "    </tr>\n",
       "    <tr>\n",
       "      <th>46</th>\n",
       "      <td>:tomato: Pomodoro</td>\n",
       "      <td>07d41cb3-26de-4b80-8518-116ef060fed2</td>\n",
       "      <td>habit</td>\n",
       "      <td>2020-03-11 04:22:27</td>\n",
       "      <td>5.644301</td>\n",
       "    </tr>\n",
       "    <tr>\n",
       "      <th>47</th>\n",
       "      <td>背单词</td>\n",
       "      <td>8d9dd5b4-1fd1-4af1-be1e-5b762131fe37</td>\n",
       "      <td>daily</td>\n",
       "      <td>2020-03-09 09:12:29</td>\n",
       "      <td>1.000000</td>\n",
       "    </tr>\n",
       "    <tr>\n",
       "      <th>48</th>\n",
       "      <td>背单词</td>\n",
       "      <td>8d9dd5b4-1fd1-4af1-be1e-5b762131fe37</td>\n",
       "      <td>daily</td>\n",
       "      <td>2020-03-10 13:34:54</td>\n",
       "      <td>1.974700</td>\n",
       "    </tr>\n",
       "    <tr>\n",
       "      <th>49</th>\n",
       "      <td>背单词</td>\n",
       "      <td>8d9dd5b4-1fd1-4af1-be1e-5b762131fe37</td>\n",
       "      <td>daily</td>\n",
       "      <td>2020-03-11 02:18:16</td>\n",
       "      <td>2.925356</td>\n",
       "    </tr>\n",
       "  </tbody>\n",
       "</table>\n",
       "</div>"
      ],
      "text/plain": [
       "            Task Name                               Task ID Task Type  \\\n",
       "0                cure  7059cade-c9df-4a7b-846f-ec0f09433121     habit   \n",
       "1                cure  7059cade-c9df-4a7b-846f-ec0f09433121     habit   \n",
       "2                处理邮件  80a7b330-b9a6-4e97-bf8d-43080f5474ea     habit   \n",
       "3                处理邮件  80a7b330-b9a6-4e97-bf8d-43080f5474ea     habit   \n",
       "4             短短地休息一下  d0d7af3c-e8f7-4f01-b6ca-64607140a9e1     habit   \n",
       "5             写日记>>成长  2c614e9f-303f-47a0-a803-bda7a7a126cd     daily   \n",
       "6             写日记>>成长  2c614e9f-303f-47a0-a803-bda7a7a126cd     daily   \n",
       "7             写日记>>成长  2c614e9f-303f-47a0-a803-bda7a7a126cd     daily   \n",
       "8             写日记>>成长  2c614e9f-303f-47a0-a803-bda7a7a126cd     daily   \n",
       "9              听力>>托福  f72cf781-2b69-4f02-abf2-ad14883e31b1     daily   \n",
       "10             听力>>托福  f72cf781-2b69-4f02-abf2-ad14883e31b1     daily   \n",
       "11             听力>>托福  f72cf781-2b69-4f02-abf2-ad14883e31b1     daily   \n",
       "12             听力>>托福  f72cf781-2b69-4f02-abf2-ad14883e31b1     daily   \n",
       "13          俯卧撑>>锻炼身体  035463b6-4aa3-44cb-ac7c-13bbd28c213a     daily   \n",
       "14          俯卧撑>>锻炼身体  035463b6-4aa3-44cb-ac7c-13bbd28c213a     daily   \n",
       "15          俯卧撑>>锻炼身体  035463b6-4aa3-44cb-ac7c-13bbd28c213a     daily   \n",
       "16          俯卧撑>>锻炼身体  035463b6-4aa3-44cb-ac7c-13bbd28c213a     daily   \n",
       "17               登陆豆瓣  6917086c-7b33-41eb-b554-6017317e76ff     daily   \n",
       "18               登陆豆瓣  6917086c-7b33-41eb-b554-6017317e76ff     daily   \n",
       "19               登陆豆瓣  6917086c-7b33-41eb-b554-6017317e76ff     daily   \n",
       "20               登陆豆瓣  6917086c-7b33-41eb-b554-6017317e76ff     daily   \n",
       "21        百闻牌商店街和每日委托  9a843bb0-80a8-4b1a-be2a-49c32ad2f1c8     daily   \n",
       "22        百闻牌商店街和每日委托  9a843bb0-80a8-4b1a-be2a-49c32ad2f1c8     daily   \n",
       "23        百闻牌商店街和每日委托  9a843bb0-80a8-4b1a-be2a-49c32ad2f1c8     daily   \n",
       "24        百闻牌商店街和每日委托  9a843bb0-80a8-4b1a-be2a-49c32ad2f1c8     daily   \n",
       "25                 扫地  d5174c82-598f-43fe-87f4-262768d52c79     daily   \n",
       "26                 扫地  d5174c82-598f-43fe-87f4-262768d52c79     daily   \n",
       "27                 扫地  d5174c82-598f-43fe-87f4-262768d52c79     daily   \n",
       "28                 洗头  032021d1-45fd-46e6-a4c7-42b0ce650bc3     daily   \n",
       "29                 洗头  032021d1-45fd-46e6-a4c7-42b0ce650bc3     daily   \n",
       "30                 洗头  032021d1-45fd-46e6-a4c7-42b0ce650bc3     daily   \n",
       "31             找出今日任务  58ce8f02-9ed2-45ee-8046-c24854c88fff     habit   \n",
       "32             找出今日任务  58ce8f02-9ed2-45ee-8046-c24854c88fff     habit   \n",
       "33             找出今日任务  58ce8f02-9ed2-45ee-8046-c24854c88fff     habit   \n",
       "34                写周报  55d182bc-6ba1-41e1-b6d9-a0775069d79c     daily   \n",
       "35                写周报  55d182bc-6ba1-41e1-b6d9-a0775069d79c     daily   \n",
       "36                写周报  55d182bc-6ba1-41e1-b6d9-a0775069d79c     daily   \n",
       "37   写子弹日记的每周总结和下周的目标  d5b78d6a-37bd-401c-93ce-aa51d70e6b40     daily   \n",
       "38   写子弹日记的每周总结和下周的目标  d5b78d6a-37bd-401c-93ce-aa51d70e6b40     daily   \n",
       "39   写子弹日记的每周总结和下周的目标  d5b78d6a-37bd-401c-93ce-aa51d70e6b40     daily   \n",
       "40      审视每周目标，指定今日任务  af9b8411-c124-4ebc-b61c-050a9e1e9b4f     daily   \n",
       "41      审视每周目标，指定今日任务  af9b8411-c124-4ebc-b61c-050a9e1e9b4f     daily   \n",
       "42      审视每周目标，指定今日任务  af9b8411-c124-4ebc-b61c-050a9e1e9b4f     daily   \n",
       "43      审视每周目标，指定今日任务  af9b8411-c124-4ebc-b61c-050a9e1e9b4f     daily   \n",
       "44  :tomato: Pomodoro  07d41cb3-26de-4b80-8518-116ef060fed2     habit   \n",
       "45  :tomato: Pomodoro  07d41cb3-26de-4b80-8518-116ef060fed2     habit   \n",
       "46  :tomato: Pomodoro  07d41cb3-26de-4b80-8518-116ef060fed2     habit   \n",
       "47                背单词  8d9dd5b4-1fd1-4af1-be1e-5b762131fe37     daily   \n",
       "48                背单词  8d9dd5b4-1fd1-4af1-be1e-5b762131fe37     daily   \n",
       "49                背单词  8d9dd5b4-1fd1-4af1-be1e-5b762131fe37     daily   \n",
       "\n",
       "                  Date     Value  \n",
       "0  2020-03-08 10:19:43 -1.026657  \n",
       "1  2020-03-09 14:46:48 -1.553953  \n",
       "2  2020-03-08 11:59:07  1.000000  \n",
       "3  2020-03-10 13:51:55  1.243614  \n",
       "4  2020-03-08 10:17:47  1.000000  \n",
       "5  2020-03-08 13:54:35  1.000000  \n",
       "6  2020-03-09 15:15:35  1.974700  \n",
       "7  2020-03-10 13:51:47  2.925356  \n",
       "8  2020-03-11 15:08:30  3.853133  \n",
       "9  2020-03-08 10:04:50  1.000000  \n",
       "10 2020-03-09 09:12:38  1.974700  \n",
       "11 2020-03-10 13:34:57  2.925356  \n",
       "12 2020-03-11 03:19:55  3.853133  \n",
       "13 2020-03-08 10:15:46  1.000000  \n",
       "14 2020-03-09 12:02:11  1.974700  \n",
       "15 2020-03-10 13:34:59  2.925356  \n",
       "16 2020-03-11 14:43:04  3.853133  \n",
       "17 2020-03-08 11:58:15  1.000000  \n",
       "18 2020-03-09 12:02:02  1.974700  \n",
       "19 2020-03-10 04:16:41  2.925356  \n",
       "20 2020-03-11 14:43:00  3.853133  \n",
       "21 2020-03-08 11:58:52  1.000000  \n",
       "22 2020-03-09 01:21:07  1.974700  \n",
       "23 2020-03-10 04:16:45  2.925356  \n",
       "24 2020-03-11 03:19:59  3.853133  \n",
       "25 2020-03-08 16:27:45  0.000000  \n",
       "26 2020-03-09 09:12:32  1.000000  \n",
       "27 2020-03-11 01:56:08  1.000000  \n",
       "28 2020-03-08 16:27:45  0.000000  \n",
       "29 2020-03-09 13:26:44  1.000000  \n",
       "30 2020-03-11 01:56:08  1.000000  \n",
       "31 2020-03-08 13:51:25  1.000000  \n",
       "32 2020-03-09 09:56:54  1.487269  \n",
       "33 2020-03-10 13:51:53  1.724759  \n",
       "34 2020-03-08 16:27:45  0.000000  \n",
       "35 2020-03-09 16:15:46  0.000000  \n",
       "36 2020-03-11 01:56:08  0.000000  \n",
       "37 2020-03-08 14:06:09  1.000000  \n",
       "38 2020-03-09 16:15:46  1.000000  \n",
       "39 2020-03-11 01:56:08  1.000000  \n",
       "40 2020-03-08 13:58:53  1.000000  \n",
       "41 2020-03-09 10:18:01  1.974700  \n",
       "42 2020-03-10 09:36:45  2.925356  \n",
       "43 2020-03-11 14:43:00  3.853133  \n",
       "44 2020-03-09 03:58:27  1.000000  \n",
       "45 2020-03-10 03:57:14  4.759113  \n",
       "46 2020-03-11 04:22:27  5.644301  \n",
       "47 2020-03-09 09:12:29  1.000000  \n",
       "48 2020-03-10 13:34:54  1.974700  \n",
       "49 2020-03-11 02:18:16  2.925356  "
      ]
     },
     "execution_count": 9,
     "metadata": {},
     "output_type": "execute_result"
    }
   ],
   "source": [
    "d.data"
   ]
  },
  {
   "cell_type": "code",
   "execution_count": 81,
   "metadata": {},
   "outputs": [
    {
     "ename": "TypeError",
     "evalue": "'NoneType' object is not subscriptable",
     "output_type": "error",
     "traceback": [
      "\u001b[0;31m---------------------------------------------------------------------------\u001b[0m",
      "\u001b[0;31mTypeError\u001b[0m                                 Traceback (most recent call last)",
      "\u001b[0;32m<ipython-input-81-78e72e907643>\u001b[0m in \u001b[0;36m<module>\u001b[0;34m\u001b[0m\n\u001b[0;32m----> 1\u001b[0;31m \u001b[0md\u001b[0m\u001b[0;34m.\u001b[0m\u001b[0mshow_habit\u001b[0m\u001b[0;34m(\u001b[0m\u001b[0;34m)\u001b[0m\u001b[0;34m\u001b[0m\u001b[0;34m\u001b[0m\u001b[0m\n\u001b[0m",
      "\u001b[0;32m<ipython-input-77-afcc0d1fcb18>\u001b[0m in \u001b[0;36mshow_habit\u001b[0;34m(self)\u001b[0m\n\u001b[1;32m     15\u001b[0m \u001b[0;34m\u001b[0m\u001b[0m\n\u001b[1;32m     16\u001b[0m     \u001b[0;32mdef\u001b[0m \u001b[0mshow_habit\u001b[0m\u001b[0;34m(\u001b[0m\u001b[0mself\u001b[0m\u001b[0;34m)\u001b[0m\u001b[0;34m:\u001b[0m\u001b[0;34m\u001b[0m\u001b[0;34m\u001b[0m\u001b[0m\n\u001b[0;32m---> 17\u001b[0;31m         \u001b[0mhabit\u001b[0m \u001b[0;34m=\u001b[0m \u001b[0mself\u001b[0m\u001b[0;34m.\u001b[0m\u001b[0mdata\u001b[0m\u001b[0;34m[\u001b[0m\u001b[0mself\u001b[0m\u001b[0;34m.\u001b[0m\u001b[0mdata\u001b[0m\u001b[0;34m[\u001b[0m\u001b[0;34m'Task Type'\u001b[0m\u001b[0;34m]\u001b[0m\u001b[0;34m==\u001b[0m\u001b[0;34m'habit'\u001b[0m\u001b[0;34m]\u001b[0m\u001b[0;34m\u001b[0m\u001b[0;34m\u001b[0m\u001b[0m\n\u001b[0m\u001b[1;32m     18\u001b[0m         \u001b[0mprint\u001b[0m\u001b[0;34m(\u001b[0m\u001b[0mhabit\u001b[0m\u001b[0;34m.\u001b[0m\u001b[0mhead\u001b[0m\u001b[0;34m(\u001b[0m\u001b[0;34m)\u001b[0m\u001b[0;34m)\u001b[0m\u001b[0;34m\u001b[0m\u001b[0;34m\u001b[0m\u001b[0m\n",
      "\u001b[0;31mTypeError\u001b[0m: 'NoneType' object is not subscriptable"
     ]
    }
   ],
   "source": [
    "d.show_habit()"
   ]
  },
  {
   "cell_type": "code",
   "execution_count": 22,
   "metadata": {},
   "outputs": [
    {
     "data": {
      "text/plain": [
       "0   2020-03-08 10:19:43\n",
       "1   2020-03-08 10:17:47\n",
       "2   2020-03-08 10:04:50\n",
       "3   2020-03-08 10:15:46\n",
       "Name: Date, dtype: datetime64[ns]"
      ]
     },
     "execution_count": 22,
     "metadata": {},
     "output_type": "execute_result"
    }
   ],
   "source": [
    "pd.to_datetime(d.data['Date'], infer_datetime_format=True)  "
   ]
  },
  {
   "cell_type": "code",
   "execution_count": 25,
   "metadata": {},
   "outputs": [],
   "source": [
    "time1 = '2020-03-08 10:18:00'\n",
    "ts = pd.Series([time1])\n",
    "ts = pd.to_datetime(ts, infer_datetime_format=True)"
   ]
  },
  {
   "cell_type": "code",
   "execution_count": 26,
   "metadata": {},
   "outputs": [
    {
     "data": {
      "text/plain": [
       "0   2020-03-08 10:19:43\n",
       "Name: Date, dtype: datetime64[ns]"
      ]
     },
     "execution_count": 26,
     "metadata": {},
     "output_type": "execute_result"
    }
   ],
   "source": [
    "times = pd.to_datetime(d.data['Date'], infer_datetime_format=True)  \n",
    "t2 = times[times>ts[0]]\n",
    "t2"
   ]
  },
  {
   "cell_type": "code",
   "execution_count": 8,
   "metadata": {},
   "outputs": [
    {
     "data": {
      "text/plain": [
       "Task Name     object\n",
       "Task ID       object\n",
       "Task Type     object\n",
       "Date          object\n",
       "Value        float64\n",
       "dtype: object"
      ]
     },
     "execution_count": 8,
     "metadata": {},
     "output_type": "execute_result"
    }
   ],
   "source": [
    "d.data.dtypes"
   ]
  },
  {
   "cell_type": "code",
   "execution_count": 9,
   "metadata": {},
   "outputs": [
    {
     "data": {
      "text/plain": [
       "Index(['Task Name', 'Task ID', 'Task Type', 'Date', 'Value'], dtype='object')"
      ]
     },
     "execution_count": 9,
     "metadata": {},
     "output_type": "execute_result"
    }
   ],
   "source": [
    "d.data.columns"
   ]
  },
  {
   "cell_type": "code",
   "execution_count": 10,
   "metadata": {},
   "outputs": [
    {
     "data": {
      "text/html": [
       "<div>\n",
       "<style scoped>\n",
       "    .dataframe tbody tr th:only-of-type {\n",
       "        vertical-align: middle;\n",
       "    }\n",
       "\n",
       "    .dataframe tbody tr th {\n",
       "        vertical-align: top;\n",
       "    }\n",
       "\n",
       "    .dataframe thead th {\n",
       "        text-align: right;\n",
       "    }\n",
       "</style>\n",
       "<table border=\"1\" class=\"dataframe\">\n",
       "  <thead>\n",
       "    <tr style=\"text-align: right;\">\n",
       "      <th></th>\n",
       "      <th>Task Name</th>\n",
       "      <th>Task ID</th>\n",
       "      <th>Task Type</th>\n",
       "      <th>Date</th>\n",
       "      <th>Value</th>\n",
       "    </tr>\n",
       "  </thead>\n",
       "  <tbody>\n",
       "    <tr>\n",
       "      <th>0</th>\n",
       "      <td>cure</td>\n",
       "      <td>7059cade-c9df-4a7b-846f-ec0f09433121</td>\n",
       "      <td>habit</td>\n",
       "      <td>2020-03-08 10:19:43</td>\n",
       "      <td>-1.026657</td>\n",
       "    </tr>\n",
       "    <tr>\n",
       "      <th>1</th>\n",
       "      <td>短短地休息一下</td>\n",
       "      <td>d0d7af3c-e8f7-4f01-b6ca-64607140a9e1</td>\n",
       "      <td>habit</td>\n",
       "      <td>2020-03-08 10:17:47</td>\n",
       "      <td>1.000000</td>\n",
       "    </tr>\n",
       "    <tr>\n",
       "      <th>2</th>\n",
       "      <td>听力&gt;&gt;托福</td>\n",
       "      <td>f72cf781-2b69-4f02-abf2-ad14883e31b1</td>\n",
       "      <td>daily</td>\n",
       "      <td>2020-03-08 10:04:50</td>\n",
       "      <td>1.000000</td>\n",
       "    </tr>\n",
       "    <tr>\n",
       "      <th>3</th>\n",
       "      <td>俯卧撑&gt;&gt;锻炼身体</td>\n",
       "      <td>035463b6-4aa3-44cb-ac7c-13bbd28c213a</td>\n",
       "      <td>daily</td>\n",
       "      <td>2020-03-08 10:15:46</td>\n",
       "      <td>1.000000</td>\n",
       "    </tr>\n",
       "  </tbody>\n",
       "</table>\n",
       "</div>"
      ],
      "text/plain": [
       "   Task Name                               Task ID Task Type  \\\n",
       "0       cure  7059cade-c9df-4a7b-846f-ec0f09433121     habit   \n",
       "1    短短地休息一下  d0d7af3c-e8f7-4f01-b6ca-64607140a9e1     habit   \n",
       "2     听力>>托福  f72cf781-2b69-4f02-abf2-ad14883e31b1     daily   \n",
       "3  俯卧撑>>锻炼身体  035463b6-4aa3-44cb-ac7c-13bbd28c213a     daily   \n",
       "\n",
       "                  Date     Value  \n",
       "0  2020-03-08 10:19:43 -1.026657  \n",
       "1  2020-03-08 10:17:47  1.000000  \n",
       "2  2020-03-08 10:04:50  1.000000  \n",
       "3  2020-03-08 10:15:46  1.000000  "
      ]
     },
     "execution_count": 10,
     "metadata": {},
     "output_type": "execute_result"
    }
   ],
   "source": [
    "d.data"
   ]
  },
  {
   "cell_type": "code",
   "execution_count": 11,
   "metadata": {},
   "outputs": [],
   "source": [
    "f2 = 'data/habitica-tasks-history2.csv'\n",
    "d2 = habitica(f2)"
   ]
  },
  {
   "cell_type": "code",
   "execution_count": 14,
   "metadata": {},
   "outputs": [
    {
     "data": {
      "text/html": [
       "<div>\n",
       "<style scoped>\n",
       "    .dataframe tbody tr th:only-of-type {\n",
       "        vertical-align: middle;\n",
       "    }\n",
       "\n",
       "    .dataframe tbody tr th {\n",
       "        vertical-align: top;\n",
       "    }\n",
       "\n",
       "    .dataframe thead th {\n",
       "        text-align: right;\n",
       "    }\n",
       "</style>\n",
       "<table border=\"1\" class=\"dataframe\">\n",
       "  <thead>\n",
       "    <tr style=\"text-align: right;\">\n",
       "      <th></th>\n",
       "      <th>Task Name</th>\n",
       "      <th>Task ID</th>\n",
       "      <th>Task Type</th>\n",
       "      <th>Date</th>\n",
       "      <th>Value</th>\n",
       "    </tr>\n",
       "  </thead>\n",
       "  <tbody>\n",
       "    <tr>\n",
       "      <th>0</th>\n",
       "      <td>cure</td>\n",
       "      <td>7059cade-c9df-4a7b-846f-ec0f09433121</td>\n",
       "      <td>habit</td>\n",
       "      <td>2020-03-08 10:19:43</td>\n",
       "      <td>-1.026657</td>\n",
       "    </tr>\n",
       "    <tr>\n",
       "      <th>1</th>\n",
       "      <td>处理邮件</td>\n",
       "      <td>80a7b330-b9a6-4e97-bf8d-43080f5474ea</td>\n",
       "      <td>habit</td>\n",
       "      <td>2020-03-08 11:59:07</td>\n",
       "      <td>1.000000</td>\n",
       "    </tr>\n",
       "    <tr>\n",
       "      <th>2</th>\n",
       "      <td>短短地休息一下</td>\n",
       "      <td>d0d7af3c-e8f7-4f01-b6ca-64607140a9e1</td>\n",
       "      <td>habit</td>\n",
       "      <td>2020-03-08 10:17:47</td>\n",
       "      <td>1.000000</td>\n",
       "    </tr>\n",
       "    <tr>\n",
       "      <th>3</th>\n",
       "      <td>听力&gt;&gt;托福</td>\n",
       "      <td>f72cf781-2b69-4f02-abf2-ad14883e31b1</td>\n",
       "      <td>daily</td>\n",
       "      <td>2020-03-08 10:04:50</td>\n",
       "      <td>1.000000</td>\n",
       "    </tr>\n",
       "    <tr>\n",
       "      <th>4</th>\n",
       "      <td>俯卧撑&gt;&gt;锻炼身体</td>\n",
       "      <td>035463b6-4aa3-44cb-ac7c-13bbd28c213a</td>\n",
       "      <td>daily</td>\n",
       "      <td>2020-03-08 10:15:46</td>\n",
       "      <td>1.000000</td>\n",
       "    </tr>\n",
       "  </tbody>\n",
       "</table>\n",
       "</div>"
      ],
      "text/plain": [
       "   Task Name                               Task ID Task Type  \\\n",
       "0       cure  7059cade-c9df-4a7b-846f-ec0f09433121     habit   \n",
       "1       处理邮件  80a7b330-b9a6-4e97-bf8d-43080f5474ea     habit   \n",
       "2    短短地休息一下  d0d7af3c-e8f7-4f01-b6ca-64607140a9e1     habit   \n",
       "3     听力>>托福  f72cf781-2b69-4f02-abf2-ad14883e31b1     daily   \n",
       "4  俯卧撑>>锻炼身体  035463b6-4aa3-44cb-ac7c-13bbd28c213a     daily   \n",
       "\n",
       "                  Date     Value  \n",
       "0  2020-03-08 10:19:43 -1.026657  \n",
       "1  2020-03-08 11:59:07  1.000000  \n",
       "2  2020-03-08 10:17:47  1.000000  \n",
       "3  2020-03-08 10:04:50  1.000000  \n",
       "4  2020-03-08 10:15:46  1.000000  "
      ]
     },
     "execution_count": 14,
     "metadata": {},
     "output_type": "execute_result"
    }
   ],
   "source": [
    "d2.data.head()"
   ]
  },
  {
   "cell_type": "code",
   "execution_count": 2,
   "metadata": {},
   "outputs": [],
   "source": [
    "import json"
   ]
  },
  {
   "cell_type": "code",
   "execution_count": 3,
   "metadata": {},
   "outputs": [],
   "source": [
    "with open(\"data/habitica-user-data.json\") as f:\n",
    "    data = json.load(f)"
   ]
  },
  {
   "cell_type": "code",
   "execution_count": 4,
   "metadata": {},
   "outputs": [
    {
     "data": {
      "text/plain": [
       "dict_keys(['auth', 'achievements', 'backer', 'contributor', 'purchased', 'flags', 'history', 'items', 'invitations', 'party', 'preferences', 'profile', 'stats', 'inbox', 'tasksOrder', '_v', 'balance', 'challenges', 'guilds', 'loginIncentives', 'invitesSent', 'pinnedItemsOrder', '_id', 'apiToken', 'lastCron', 'newMessages', 'notifications', 'tags', 'extra', 'pushDevices', 'webhooks', 'pinnedItems', 'unpinnedItems', '_ABTests', 'id', 'tasks'])"
      ]
     },
     "execution_count": 4,
     "metadata": {},
     "output_type": "execute_result"
    }
   ],
   "source": [
    "data.keys()"
   ]
  },
  {
   "cell_type": "code",
   "execution_count": 18,
   "metadata": {},
   "outputs": [
    {
     "data": {
      "text/plain": [
       "dict_keys(['habits', 'rewards', 'dailys', 'todos'])"
      ]
     },
     "execution_count": 18,
     "metadata": {},
     "output_type": "execute_result"
    }
   ],
   "source": [
    "data[\"tasks\"].keys()"
   ]
  },
  {
   "cell_type": "code",
   "execution_count": 25,
   "metadata": {},
   "outputs": [
    {
     "data": {
      "text/plain": [
       "{'challenge': {},\n",
       " 'group': {'approval': {'required': False,\n",
       "   'approved': False,\n",
       "   'requested': False},\n",
       "  'assignedUsers': [],\n",
       "  'sharedCompletion': 'singleCompletion'},\n",
       " 'completed': False,\n",
       " 'collapseChecklist': False,\n",
       " 'type': 'todo',\n",
       " 'notes': '',\n",
       " 'tags': ['f3f8b535-ee34-4b18-a2d4-e776a189902a'],\n",
       " 'value': -3.0792442306676366,\n",
       " 'priority': 2,\n",
       " 'attribute': 'str',\n",
       " 'byHabitica': False,\n",
       " 'checklist': [{'completed': False,\n",
       "   'text': '查看错误是什么',\n",
       "   'id': '7947c696-e4c6-4271-b5e5-6db567095166'},\n",
       "  {'completed': False,\n",
       "   'text': '修复错误',\n",
       "   'id': 'ae1cc7bd-c932-4636-9a3c-231fd704efd7'},\n",
       "  {'completed': False,\n",
       "   'text': '记录到我的',\n",
       "   'id': '279e43d4-1858-4d66-aac5-c706e9f19bb0'},\n",
       "  {'completed': False,\n",
       "   'text': '记录到我的blog里面',\n",
       "   'id': 'f57f6da7-67b5-4e4f-9930-52b18282142f'}],\n",
       " 'reminders': [],\n",
       " 'createdAt': '2020-03-08T10:16:58.257Z',\n",
       " 'updatedAt': '2020-03-11T01:56:08.117Z',\n",
       " '_id': '5599285d-4c64-45db-8191-5d5fda859075',\n",
       " 'text': '修复我的macvim',\n",
       " 'userId': 'b4351bdb-2f29-4bb3-9592-e49f0a167ec2',\n",
       " 'id': '5599285d-4c64-45db-8191-5d5fda859075'}"
      ]
     },
     "execution_count": 25,
     "metadata": {},
     "output_type": "execute_result"
    }
   ],
   "source": [
    "data['tasks']['todos'][1]"
   ]
  },
  {
   "cell_type": "code",
   "execution_count": 29,
   "metadata": {},
   "outputs": [
    {
     "data": {
      "text/plain": [
       "{'challenge': {},\n",
       " 'group': {'approval': {'required': False,\n",
       "   'approved': False,\n",
       "   'requested': False},\n",
       "  'assignedUsers': [],\n",
       "  'sharedCompletion': 'singleCompletion'},\n",
       " 'completed': True,\n",
       " 'collapseChecklist': False,\n",
       " 'type': 'todo',\n",
       " 'notes': '',\n",
       " 'tags': [],\n",
       " 'value': 3,\n",
       " 'priority': 1,\n",
       " 'attribute': 'str',\n",
       " 'byHabitica': False,\n",
       " 'checklist': [{'completed': True,\n",
       "   'text': '清点垃圾',\n",
       "   'id': 'bdcae2c8-bde2-4366-be88-af9b6ddd968e'},\n",
       "  {'completed': True,\n",
       "   'text': '倒垃圾',\n",
       "   'id': '22d89112-84ae-44a7-8672-e6f76644a456'}],\n",
       " 'reminders': [],\n",
       " 'createdAt': '2020-03-08T10:23:13.287Z',\n",
       " 'updatedAt': '2020-03-08T12:43:53.764Z',\n",
       " '_id': '0b96ff18-0ca3-4d3c-9def-c61edcfdf39a',\n",
       " 'text': '倒垃圾',\n",
       " 'userId': 'b4351bdb-2f29-4bb3-9592-e49f0a167ec2',\n",
       " 'date': '2020-03-08T10:23:20.169Z',\n",
       " 'dateCompleted': '2020-03-08T12:43:53.752Z',\n",
       " 'id': '0b96ff18-0ca3-4d3c-9def-c61edcfdf39a'}"
      ]
     },
     "execution_count": 29,
     "metadata": {},
     "output_type": "execute_result"
    }
   ],
   "source": [
    "data['tasks']['todos'][3]"
   ]
  },
  {
   "cell_type": "code",
   "execution_count": 132,
   "metadata": {},
   "outputs": [
    {
     "name": "stdout",
     "output_type": "stream",
     "text": [
      "tbegin 1583596800\n",
      "tend 1584201600\n",
      "1583596800\n"
     ]
    }
   ],
   "source": [
    "def timeExtract(timestamp):\n",
    "    # for todos\n",
    "    dateStr = timestamp[:10]\n",
    "    newTime = datetime.strptime(dateStr, '%Y-%m-%d') \n",
    "    return newTime\n",
    "\n",
    "def timestampExtract(timestamp):\n",
    "    # for dailys\n",
    "    dateStr = timestamp[:10]\n",
    "    newTime = int(datetime.strptime(dateStr, '%Y-%m-%d').timestamp())\n",
    "    return newTime\n",
    "\n",
    "todo_works = []\n",
    "begin = timeExtract('2020-03-08 00:00:00')\n",
    "end = timeExtract('2020-03-15 00:00:00')\n",
    "for item in data['tasks']['todos']:\n",
    "    try: \n",
    "        if timeExtract(item['dateCompleted'])>=begin and timeExtract(item['dateCompleted'])<=end:\n",
    "            todo_works.append(item['text'])\n",
    "    except:\n",
    "        pass\n",
    "\n",
    "daily_works = {}\n",
    "tbegin = timestampExtract('2020-03-08 00:00:00')\n",
    "tend = timestampExtract('2020-03-15 00:00:00')\n",
    "print('tbegin', tbegin)\n",
    "print('tend', tend)\n",
    "print(tbegin)\n",
    "for item in data['tasks']['dailys']:\n",
    "    historys = item['history']\n",
    "    daily_works[item['text']] = 0\n",
    "    #print(tbegin)\n",
    "    for h in historys:\n",
    "        if h['value']>0:\n",
    "            if h['date']/1000 >= int(tbegin) and h['date']/1000 <= int(tend):\n",
    "                daily_works[item['text']] += 1\n",
    "  "
   ]
  },
  {
   "cell_type": "code",
   "execution_count": 133,
   "metadata": {},
   "outputs": [
    {
     "data": {
      "text/plain": [
       "{'写日记>>成长': 4,\n",
       " '听力>>托福': 4,\n",
       " '俯卧撑>>锻炼身体': 4,\n",
       " '登陆豆瓣': 4,\n",
       " '百闻牌商店街和每日委托': 4,\n",
       " '扫地': 2,\n",
       " '洗头': 2,\n",
       " '写周报': 0,\n",
       " '写子弹日记的每周总结和下周的目标': 3,\n",
       " '审视每周目标，指定今日任务': 4,\n",
       " '背单词': 3}"
      ]
     },
     "execution_count": 133,
     "metadata": {},
     "output_type": "execute_result"
    }
   ],
   "source": [
    "daily_works"
   ]
  },
  {
   "cell_type": "code",
   "execution_count": 33,
   "metadata": {},
   "outputs": [
    {
     "data": {
      "text/plain": [
       "{'challenge': {},\n",
       " 'group': {'approval': {'required': False,\n",
       "   'approved': False,\n",
       "   'requested': False},\n",
       "  'assignedUsers': [],\n",
       "  'sharedCompletion': 'singleCompletion'},\n",
       " 'up': True,\n",
       " 'down': False,\n",
       " 'counterUp': 0,\n",
       " 'counterDown': 0,\n",
       " 'frequency': 'daily',\n",
       " 'history': [{'date': 1583668747939,\n",
       "   'value': 1,\n",
       "   'scoredUp': 1,\n",
       "   'scoredDown': 0},\n",
       "  {'date': 1583848315064,\n",
       "   'value': 1.243614090235369,\n",
       "   'scoredUp': 1,\n",
       "   'scoredDown': 0}],\n",
       " 'type': 'habit',\n",
       " 'notes': '',\n",
       " 'tags': [],\n",
       " 'value': 0.6218070451176845,\n",
       " 'priority': 1,\n",
       " 'attribute': 'str',\n",
       " 'byHabitica': False,\n",
       " 'reminders': [],\n",
       " 'createdAt': '2020-03-08T09:56:40.861Z',\n",
       " 'updatedAt': '2020-03-11T01:56:08.107Z',\n",
       " '_id': '80a7b330-b9a6-4e97-bf8d-43080f5474ea',\n",
       " 'text': '处理邮件',\n",
       " 'userId': 'b4351bdb-2f29-4bb3-9592-e49f0a167ec2',\n",
       " 'id': '80a7b330-b9a6-4e97-bf8d-43080f5474ea'}"
      ]
     },
     "execution_count": 33,
     "metadata": {},
     "output_type": "execute_result"
    }
   ],
   "source": [
    "data['tasks']['habits'][1]"
   ]
  },
  {
   "cell_type": "code",
   "execution_count": 124,
   "metadata": {},
   "outputs": [
    {
     "data": {
      "text/plain": [
       "1583944810.353904"
      ]
     },
     "execution_count": 124,
     "metadata": {},
     "output_type": "execute_result"
    }
   ],
   "source": [
    "datetime.now().timestamp()"
   ]
  },
  {
   "cell_type": "code",
   "execution_count": 66,
   "metadata": {},
   "outputs": [
    {
     "name": "stdout",
     "output_type": "stream",
     "text": [
      "2020-03-08\n",
      "2020-03-08\n",
      "2020-03-08 00:00:00\n"
     ]
    }
   ],
   "source": [
    "print(timeExtract(date))"
   ]
  },
  {
   "cell_type": "code",
   "execution_count": 59,
   "metadata": {},
   "outputs": [
    {
     "data": {
      "text/plain": [
       "'2020-03-08'"
      ]
     },
     "execution_count": 59,
     "metadata": {},
     "output_type": "execute_result"
    }
   ],
   "source": [
    "dateStr[:10]"
   ]
  },
  {
   "cell_type": "code",
   "execution_count": 30,
   "metadata": {},
   "outputs": [],
   "source": [
    "from datetime import datetime"
   ]
  },
  {
   "cell_type": "code",
   "execution_count": 99,
   "metadata": {},
   "outputs": [],
   "source": [
    "dateStr = '2020-03-08T12:43:53.752Z'\n",
    "dateStr = dateStr.replace('T', ' ')\n",
    "dateStr = dateStr.replace('Z', '')\n",
    "dateStr = dateStr[0:len(dateStr)-4]\n",
    "\n",
    "dateStr2 = '2020-03-07T12:43:53.752Z'\n",
    "dateStr2 = dateStr2.replace('T', ' ')\n",
    "dateStr2 = dateStr2.replace('Z', '')\n",
    "dateStr2 = dateStr2[0:len(dateStr2)-4]\n",
    "\n",
    "res = datetime.strptime(dateStr, '%Y-%m-%d %H:%M:%S') \n",
    "res2 = int(datetime.strptime(dateStr2, '%Y-%m-%d %H:%M:%S').timestamp())"
   ]
  },
  {
   "cell_type": "code",
   "execution_count": 100,
   "metadata": {},
   "outputs": [
    {
     "data": {
      "text/plain": [
       "1583556233"
      ]
     },
     "execution_count": 100,
     "metadata": {},
     "output_type": "execute_result"
    }
   ],
   "source": [
    "res2"
   ]
  },
  {
   "cell_type": "code",
   "execution_count": 44,
   "metadata": {},
   "outputs": [],
   "source": [
    "\n",
    "datetime_str = '09/19/18 13:55:26'\n",
    "datetime_object = datetime.strptime(datetime_str, '%m/%d/%y %H:%M:%S')"
   ]
  },
  {
   "cell_type": "code",
   "execution_count": 45,
   "metadata": {},
   "outputs": [
    {
     "data": {
      "text/plain": [
       "datetime.datetime(2018, 9, 19, 13, 55, 26)"
      ]
     },
     "execution_count": 45,
     "metadata": {},
     "output_type": "execute_result"
    }
   ],
   "source": [
    "datetime_object"
   ]
  },
  {
   "cell_type": "code",
   "execution_count": null,
   "metadata": {},
   "outputs": [],
   "source": []
  }
 ],
 "metadata": {
  "kernelspec": {
   "display_name": "Python 3",
   "language": "python",
   "name": "python3"
  },
  "language_info": {
   "codemirror_mode": {
    "name": "ipython",
    "version": 3
   },
   "file_extension": ".py",
   "mimetype": "text/x-python",
   "name": "python",
   "nbconvert_exporter": "python",
   "pygments_lexer": "ipython3",
   "version": "3.7.3"
  }
 },
 "nbformat": 4,
 "nbformat_minor": 2
}
